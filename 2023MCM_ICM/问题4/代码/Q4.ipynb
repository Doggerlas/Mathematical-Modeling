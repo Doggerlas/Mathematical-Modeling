{
  "cells": [
    {
      "cell_type": "markdown",
      "source": [
        "# 直接分别说明星期几对整体数据和趋于稳定的数据的影响"
      ],
      "metadata": {
        "id": "0yuvGhnmayIT"
      },
      "id": "0yuvGhnmayIT"
    },
    {
      "cell_type": "code",
      "source": [
        "!wget -O /usr/share/fonts/truetype/liberation/simhei.ttf \"https://www.wfonts.com/download/data/2014/06/01/simhei/chinese.simhei.ttf\""
      ],
      "metadata": {
        "colab": {
          "base_uri": "https://localhost:8080/"
        },
        "id": "V47sbIuVLLRD",
        "outputId": "b9b52b3a-2582-4efa-a5bf-3a2b89bc99cc"
      },
      "id": "V47sbIuVLLRD",
      "execution_count": 13,
      "outputs": [
        {
          "output_type": "stream",
          "name": "stdout",
          "text": [
            "--2023-02-19 02:29:33--  https://www.wfonts.com/download/data/2014/06/01/simhei/chinese.simhei.ttf\n",
            "Resolving www.wfonts.com (www.wfonts.com)... 104.225.219.210\n",
            "Connecting to www.wfonts.com (www.wfonts.com)|104.225.219.210|:443... connected.\n",
            "HTTP request sent, awaiting response... 200 OK\n",
            "Length: 10050870 (9.6M) [application/octetstream]\n",
            "Saving to: ‘/usr/share/fonts/truetype/liberation/simhei.ttf’\n",
            "\n",
            "/usr/share/fonts/tr 100%[===================>]   9.58M  6.48MB/s    in 1.5s    \n",
            "\n",
            "2023-02-19 02:29:35 (6.48 MB/s) - ‘/usr/share/fonts/truetype/liberation/simhei.ttf’ saved [10050870/10050870]\n",
            "\n"
          ]
        }
      ]
    },
    {
      "cell_type": "code",
      "source": [
        "import matplotlib.pyplot as plt\n",
        "import matplotlib as mpl\n",
        "# https://blog.csdn.net/weixin_39934640/article/details/110844456\n",
        "zhfont = mpl.font_manager.FontProperties(fname='/usr/share/fonts/truetype/liberation/simhei.ttf')\n",
        "plt.rcParams['axes.unicode_minus'] = False  # 用来正常显示负号\n",
        "plt.rcParams[\"font.sans-serif\"]=[\"SimHei\"] #设置字体"
      ],
      "metadata": {
        "id": "R9Eqj0cTLPPa"
      },
      "id": "R9Eqj0cTLPPa",
      "execution_count": 14,
      "outputs": []
    },
    {
      "cell_type": "code",
      "execution_count": 15,
      "id": "ee24fd91",
      "metadata": {
        "id": "ee24fd91"
      },
      "outputs": [],
      "source": [
        "import pandas as pd\n",
        "import numpy as np\n",
        "import matplotlib.pyplot as plt\n",
        "from datetime import datetime\n",
        "import nltk"
      ]
    },
    {
      "cell_type": "code",
      "execution_count": 16,
      "id": "df90d4ed",
      "metadata": {
        "colab": {
          "base_uri": "https://localhost:8080/",
          "height": 206
        },
        "id": "df90d4ed",
        "outputId": "d41fbeeb-0d5f-4f3f-a67e-6b3ae73661f2"
      },
      "outputs": [
        {
          "output_type": "execute_result",
          "data": {
            "text/plain": [
              "        Date  Contest number   Word  Number of  reported results  \\\n",
              "0 2022-12-31             560  manly                        20380   \n",
              "1 2022-12-30             559  molar                        21204   \n",
              "2 2022-12-29             558  havoc                        20001   \n",
              "3 2022-12-28             557  impel                        20160   \n",
              "4 2022-12-27             556  condo                        20879   \n",
              "\n",
              "   Number in hard mode  1 try  2 tries  3 tries  4 tries  5 tries  6 tries  \\\n",
              "0                 1899      0        2       17       37       29       12   \n",
              "1                 1973      0        4       21       38       26        9   \n",
              "2                 1919      0        2       16       38       30       12   \n",
              "3                 1937      0        3       21       40       25        9   \n",
              "4                 2012      0        2       17       35       29       14   \n",
              "\n",
              "   7 or more tries (X)  \n",
              "0                    2  \n",
              "1                    1  \n",
              "2                    2  \n",
              "3                    1  \n",
              "4                    3  "
            ],
            "text/html": [
              "\n",
              "  <div id=\"df-dfa096e9-af08-439e-91ff-ba8a22027c23\">\n",
              "    <div class=\"colab-df-container\">\n",
              "      <div>\n",
              "<style scoped>\n",
              "    .dataframe tbody tr th:only-of-type {\n",
              "        vertical-align: middle;\n",
              "    }\n",
              "\n",
              "    .dataframe tbody tr th {\n",
              "        vertical-align: top;\n",
              "    }\n",
              "\n",
              "    .dataframe thead th {\n",
              "        text-align: right;\n",
              "    }\n",
              "</style>\n",
              "<table border=\"1\" class=\"dataframe\">\n",
              "  <thead>\n",
              "    <tr style=\"text-align: right;\">\n",
              "      <th></th>\n",
              "      <th>Date</th>\n",
              "      <th>Contest number</th>\n",
              "      <th>Word</th>\n",
              "      <th>Number of  reported results</th>\n",
              "      <th>Number in hard mode</th>\n",
              "      <th>1 try</th>\n",
              "      <th>2 tries</th>\n",
              "      <th>3 tries</th>\n",
              "      <th>4 tries</th>\n",
              "      <th>5 tries</th>\n",
              "      <th>6 tries</th>\n",
              "      <th>7 or more tries (X)</th>\n",
              "    </tr>\n",
              "  </thead>\n",
              "  <tbody>\n",
              "    <tr>\n",
              "      <th>0</th>\n",
              "      <td>2022-12-31</td>\n",
              "      <td>560</td>\n",
              "      <td>manly</td>\n",
              "      <td>20380</td>\n",
              "      <td>1899</td>\n",
              "      <td>0</td>\n",
              "      <td>2</td>\n",
              "      <td>17</td>\n",
              "      <td>37</td>\n",
              "      <td>29</td>\n",
              "      <td>12</td>\n",
              "      <td>2</td>\n",
              "    </tr>\n",
              "    <tr>\n",
              "      <th>1</th>\n",
              "      <td>2022-12-30</td>\n",
              "      <td>559</td>\n",
              "      <td>molar</td>\n",
              "      <td>21204</td>\n",
              "      <td>1973</td>\n",
              "      <td>0</td>\n",
              "      <td>4</td>\n",
              "      <td>21</td>\n",
              "      <td>38</td>\n",
              "      <td>26</td>\n",
              "      <td>9</td>\n",
              "      <td>1</td>\n",
              "    </tr>\n",
              "    <tr>\n",
              "      <th>2</th>\n",
              "      <td>2022-12-29</td>\n",
              "      <td>558</td>\n",
              "      <td>havoc</td>\n",
              "      <td>20001</td>\n",
              "      <td>1919</td>\n",
              "      <td>0</td>\n",
              "      <td>2</td>\n",
              "      <td>16</td>\n",
              "      <td>38</td>\n",
              "      <td>30</td>\n",
              "      <td>12</td>\n",
              "      <td>2</td>\n",
              "    </tr>\n",
              "    <tr>\n",
              "      <th>3</th>\n",
              "      <td>2022-12-28</td>\n",
              "      <td>557</td>\n",
              "      <td>impel</td>\n",
              "      <td>20160</td>\n",
              "      <td>1937</td>\n",
              "      <td>0</td>\n",
              "      <td>3</td>\n",
              "      <td>21</td>\n",
              "      <td>40</td>\n",
              "      <td>25</td>\n",
              "      <td>9</td>\n",
              "      <td>1</td>\n",
              "    </tr>\n",
              "    <tr>\n",
              "      <th>4</th>\n",
              "      <td>2022-12-27</td>\n",
              "      <td>556</td>\n",
              "      <td>condo</td>\n",
              "      <td>20879</td>\n",
              "      <td>2012</td>\n",
              "      <td>0</td>\n",
              "      <td>2</td>\n",
              "      <td>17</td>\n",
              "      <td>35</td>\n",
              "      <td>29</td>\n",
              "      <td>14</td>\n",
              "      <td>3</td>\n",
              "    </tr>\n",
              "  </tbody>\n",
              "</table>\n",
              "</div>\n",
              "      <button class=\"colab-df-convert\" onclick=\"convertToInteractive('df-dfa096e9-af08-439e-91ff-ba8a22027c23')\"\n",
              "              title=\"Convert this dataframe to an interactive table.\"\n",
              "              style=\"display:none;\">\n",
              "        \n",
              "  <svg xmlns=\"http://www.w3.org/2000/svg\" height=\"24px\"viewBox=\"0 0 24 24\"\n",
              "       width=\"24px\">\n",
              "    <path d=\"M0 0h24v24H0V0z\" fill=\"none\"/>\n",
              "    <path d=\"M18.56 5.44l.94 2.06.94-2.06 2.06-.94-2.06-.94-.94-2.06-.94 2.06-2.06.94zm-11 1L8.5 8.5l.94-2.06 2.06-.94-2.06-.94L8.5 2.5l-.94 2.06-2.06.94zm10 10l.94 2.06.94-2.06 2.06-.94-2.06-.94-.94-2.06-.94 2.06-2.06.94z\"/><path d=\"M17.41 7.96l-1.37-1.37c-.4-.4-.92-.59-1.43-.59-.52 0-1.04.2-1.43.59L10.3 9.45l-7.72 7.72c-.78.78-.78 2.05 0 2.83L4 21.41c.39.39.9.59 1.41.59.51 0 1.02-.2 1.41-.59l7.78-7.78 2.81-2.81c.8-.78.8-2.07 0-2.86zM5.41 20L4 18.59l7.72-7.72 1.47 1.35L5.41 20z\"/>\n",
              "  </svg>\n",
              "      </button>\n",
              "      \n",
              "  <style>\n",
              "    .colab-df-container {\n",
              "      display:flex;\n",
              "      flex-wrap:wrap;\n",
              "      gap: 12px;\n",
              "    }\n",
              "\n",
              "    .colab-df-convert {\n",
              "      background-color: #E8F0FE;\n",
              "      border: none;\n",
              "      border-radius: 50%;\n",
              "      cursor: pointer;\n",
              "      display: none;\n",
              "      fill: #1967D2;\n",
              "      height: 32px;\n",
              "      padding: 0 0 0 0;\n",
              "      width: 32px;\n",
              "    }\n",
              "\n",
              "    .colab-df-convert:hover {\n",
              "      background-color: #E2EBFA;\n",
              "      box-shadow: 0px 1px 2px rgba(60, 64, 67, 0.3), 0px 1px 3px 1px rgba(60, 64, 67, 0.15);\n",
              "      fill: #174EA6;\n",
              "    }\n",
              "\n",
              "    [theme=dark] .colab-df-convert {\n",
              "      background-color: #3B4455;\n",
              "      fill: #D2E3FC;\n",
              "    }\n",
              "\n",
              "    [theme=dark] .colab-df-convert:hover {\n",
              "      background-color: #434B5C;\n",
              "      box-shadow: 0px 1px 3px 1px rgba(0, 0, 0, 0.15);\n",
              "      filter: drop-shadow(0px 1px 2px rgba(0, 0, 0, 0.3));\n",
              "      fill: #FFFFFF;\n",
              "    }\n",
              "  </style>\n",
              "\n",
              "      <script>\n",
              "        const buttonEl =\n",
              "          document.querySelector('#df-dfa096e9-af08-439e-91ff-ba8a22027c23 button.colab-df-convert');\n",
              "        buttonEl.style.display =\n",
              "          google.colab.kernel.accessAllowed ? 'block' : 'none';\n",
              "\n",
              "        async function convertToInteractive(key) {\n",
              "          const element = document.querySelector('#df-dfa096e9-af08-439e-91ff-ba8a22027c23');\n",
              "          const dataTable =\n",
              "            await google.colab.kernel.invokeFunction('convertToInteractive',\n",
              "                                                     [key], {});\n",
              "          if (!dataTable) return;\n",
              "\n",
              "          const docLinkHtml = 'Like what you see? Visit the ' +\n",
              "            '<a target=\"_blank\" href=https://colab.research.google.com/notebooks/data_table.ipynb>data table notebook</a>'\n",
              "            + ' to learn more about interactive tables.';\n",
              "          element.innerHTML = '';\n",
              "          dataTable['output_type'] = 'display_data';\n",
              "          await google.colab.output.renderOutput(dataTable, element);\n",
              "          const docLink = document.createElement('div');\n",
              "          docLink.innerHTML = docLinkHtml;\n",
              "          element.appendChild(docLink);\n",
              "        }\n",
              "      </script>\n",
              "    </div>\n",
              "  </div>\n",
              "  "
            ]
          },
          "metadata": {},
          "execution_count": 16
        }
      ],
      "source": [
        "df = pd.read_excel('Problem_C_Data_Wordle.xlsx', header=1)\n",
        "df=df[df.columns[1:]]\n",
        "df.head()"
      ]
    },
    {
      "cell_type": "markdown",
      "id": "88879396",
      "metadata": {
        "id": "88879396"
      },
      "source": [
        "预处理：\n",
        "1. 百分比之和可能不等于1，所以对其进行归一化  \n",
        "2. 按照'Contest Number'对整个表进行升序排列  \n",
        "3. 判断当前日期是否为周末，为周几  "
      ]
    },
    {
      "cell_type": "code",
      "execution_count": 17,
      "id": "f3ca9692",
      "metadata": {
        "id": "f3ca9692"
      },
      "outputs": [],
      "source": [
        "df = pd.read_excel('Problem_C_Data_Wordle.xlsx', header=1)\n",
        "df=df[df.columns[1:]]\n",
        "#  对尝试次数进行归一化，使其结果和等于100\n",
        "df = df.sort_values(by='Contest number', ignore_index=True)\n",
        "percent = df[df.columns[5:]].sum(axis=1)\n",
        "for column in df.columns[5:]:\n",
        "    df[column]=df[column]/percent*100\n",
        "# 判断当前日期为周几，周一为0，依次增加  \n",
        "df['week']=df['Date'].apply(lambda x:x.weekday())\n",
        "df['is_weekend'] = df['week'].apply(lambda x:x>4)"
      ]
    },
    {
      "cell_type": "markdown",
      "id": "7ca328b2",
      "metadata": {
        "id": "7ca328b2"
      },
      "source": [
        "## 分析整体的星期几对得分均值的影响"
      ]
    },
    {
      "cell_type": "code",
      "execution_count": 18,
      "id": "9c7c2891",
      "metadata": {
        "colab": {
          "base_uri": "https://localhost:8080/",
          "height": 299
        },
        "id": "9c7c2891",
        "outputId": "5b9a0e56-deaf-40f2-e389-69388b68836b"
      },
      "outputs": [
        {
          "output_type": "stream",
          "name": "stderr",
          "text": [
            "WARNING:matplotlib.font_manager:findfont: Font family ['sans-serif'] not found. Falling back to DejaVu Sans.\n"
          ]
        },
        {
          "output_type": "display_data",
          "data": {
            "text/plain": [
              "<Figure size 432x288 with 1 Axes>"
            ],
            "image/png": "[encoded data removed]"
          },
          "metadata": {
            "needs_background": "light"
          }
        }
      ],
      "source": [
        "plt.scatter(df['Contest number'], df['Number of  reported results'])\n",
        "# plt.title('得分数-编号分布图(整体)',fontproperties=zhfont)\n",
        "# plt.savefig('得分数-编号分布图(整体)',fontproperties=zhfont)\n",
        "plt.title('Contest number vs Number of reported results(overall)')\n",
        "plt.savefig('Contest number vs Number of reported results(overall)')\n",
        "plt.show()"
      ]
    },
    {
      "cell_type": "code",
      "execution_count": 19,
      "id": "92c9bd1c",
      "metadata": {
        "colab": {
          "base_uri": "https://localhost:8080/",
          "height": 281
        },
        "id": "92c9bd1c",
        "outputId": "041ffda0-92ac-49a4-dce4-72cb7ea95301"
      },
      "outputs": [
        {
          "output_type": "display_data",
          "data": {
            "text/plain": [
              "<Figure size 432x288 with 1 Axes>"
            ],
            "image/png": "[encoded data removed]"
          },
          "metadata": {
            "needs_background": "light"
          }
        }
      ],
      "source": [
        "weeks = []\n",
        "for week in range(7):\n",
        "    df1 = df[df['week']==week]\n",
        "    weeks.append(df1['Number of  reported results'].mean())\n",
        "plt.scatter([i+1 for i in range(7)], weeks)\n",
        "plt.plot([i+1 for i in range(7)], [df['Number of  reported results'].mean() for i in range(7)])\n",
        "#plt.title('周一到周日每天得分均值与总均值图(整体)',fontproperties=zhfont)\n",
        "# 其中直线为总均值图，散点图为每天的\n",
        "#plt.savefig('周一到周日每天得分均值与总均值图(整体)',fontproperties=zhfont)\n",
        "\n",
        "plt.title('Daily score average and total average graph from Monday to Sunday(overall)')\n",
        "plt.savefig('Daily score average and total average graph from Monday to Sunday(overall)')\n",
        "plt.show()"
      ]
    },
    {
      "cell_type": "code",
      "execution_count": 20,
      "id": "aca64a22",
      "metadata": {
        "colab": {
          "base_uri": "https://localhost:8080/"
        },
        "id": "aca64a22",
        "outputId": "f3bcdabe-7801-4cef-b57b-3d58137340b1"
      },
      "outputs": [
        {
          "output_type": "execute_result",
          "data": {
            "text/plain": [
              "array([[ 1.        , -0.01421786],\n",
              "       [-0.01421786,  1.        ]])"
            ]
          },
          "metadata": {},
          "execution_count": 20
        }
      ],
      "source": [
        "# 整体得分与星期几之间的相关性\n",
        "np.corrcoef(df['week'], df['Number of  reported results'])"
      ]
    },
    {
      "cell_type": "markdown",
      "id": "f258e100",
      "metadata": {
        "id": "f258e100"
      },
      "source": [
        "可以看到，在整个时间段中，星期几与得分情况的相关性不大，甚至可以说不相关。"
      ]
    },
    {
      "cell_type": "markdown",
      "id": "7c482b6d",
      "metadata": {
        "id": "7c482b6d"
      },
      "source": [
        "## 取得分总体趋于稳定后的区域，判断星期几对得分的影响"
      ]
    },
    {
      "cell_type": "code",
      "execution_count": 21,
      "id": "10a7bad8",
      "metadata": {
        "colab": {
          "base_uri": "https://localhost:8080/",
          "height": 281
        },
        "id": "10a7bad8",
        "outputId": "09e9cdad-80f5-4071-d486-c182548c8b41"
      },
      "outputs": [
        {
          "output_type": "display_data",
          "data": {
            "text/plain": [
              "<Figure size 432x288 with 1 Axes>"
            ],
            "image/png": "[encoded data removed]"
          },
          "metadata": {
            "needs_background": "light"
          }
        }
      ],
      "source": [
        "a = 150 # 暂定为150，可以自己设置对应的趋于平稳的阈值\n",
        "plt.scatter(df['Contest number'][a:], df['Number of  reported results'][a:])\n",
        "\n",
        "# plt.title('得分数-编号分布图(稳定部分)',fontproperties=zhfont)\n",
        "# plt.savefig('得分数-编号分布图(稳定部分)',fontproperties=zhfont)\n",
        "plt.title('Contest number vs Number of reported results(stable part)')\n",
        "plt.savefig('Contest number vs Number of reported results(stable part)')\n",
        "plt.show()\n",
        "# 注意：这是DS数模（公众号、面包多、知乎）团队制作的进阶思路，在公众号：DS数模，输入：美赛，\n",
        "# 或加群：557421704，获取正版资源。有疑问，请务必购买正版，加入答疑群，可能现在的进阶版本并不完善，后期有问题也会更新。\n",
        "\n",
        "# 替换删除了一些东西，在DS数模团队的C题答疑群内后续进行说明，请务必购买正版获取完整代码"
      ]
    },
    {
      "cell_type": "code",
      "execution_count": 22,
      "id": "932c560d",
      "metadata": {
        "colab": {
          "base_uri": "https://localhost:8080/",
          "height": 281
        },
        "id": "932c560d",
        "outputId": "27aa805f-5370-4e23-e576-5cbaeb4932a0"
      },
      "outputs": [
        {
          "output_type": "display_data",
          "data": {
            "text/plain": [
              "<Figure size 432x288 with 1 Axes>"
            ],
            "image/png": "[encoded data removed]"
          },
          "metadata": {
            "needs_background": "light"
          }
        }
      ],
      "source": [
        "df1 = df.iloc[a:]\n",
        "weeks = []\n",
        "for week in range(7):\n",
        "    df2 = df1[df1['week']==week]\n",
        "    weeks.append(df2['Number of  reported results'].mean())\n",
        "plt.scatter([i+1 for i in range(7)], weeks)\n",
        "plt.plot([i+1 for i in range(7)], [df1['Number of  reported results'].mean() for i in range(7)])\n",
        "#plt.title('周一到周日每天得分均值与总均值图(稳定部分)',fontproperties=zhfont)\n",
        "#plt.savefig('周一到周日每天得分均值与总均值图(稳定部分)',fontproperties=zhfont)\n",
        "plt.title('Daily score average and total average graph from Monday to Sunday(stable part)')\n",
        "plt.savefig('Daily score average and total average graph from Monday to Sunday(stable part)')\n",
        "\n",
        "# 其中直线为总均值图，散点图为每天的\n",
        "plt.show()"
      ]
    },
    {
      "cell_type": "code",
      "execution_count": 23,
      "id": "56d42729",
      "metadata": {
        "colab": {
          "base_uri": "https://localhost:8080/"
        },
        "id": "56d42729",
        "outputId": "5831a839-9689-42f2-91ea-a10763a5024b"
      },
      "outputs": [
        {
          "output_type": "execute_result",
          "data": {
            "text/plain": [
              "array([[ 1.        , -0.92371301],\n",
              "       [-0.92371301,  1.        ]])"
            ]
          },
          "metadata": {},
          "execution_count": 23
        }
      ],
      "source": [
        "np.corrcoef(df['Contest number'][a:], df['Number of  reported results'][a:])"
      ]
    },
    {
      "cell_type": "markdown",
      "source": [
        "从图和相关系数可以看出，星期几与得分存在较大的负相关关系，且周末（周六周日）的得分明显小于工作日的得分情况。"
      ],
      "metadata": {
        "id": "_jxQt9B-cJzy"
      },
      "id": "_jxQt9B-cJzy"
    }
  ],
  "metadata": {
    "kernelspec": {
      "display_name": "Python 3",
      "language": "python",
      "name": "python3"
    },
    "language_info": {
      "codemirror_mode": {
        "name": "ipython",
        "version": 3
      },
      "file_extension": ".py",
      "mimetype": "text/x-python",
      "name": "python",
      "nbconvert_exporter": "python",
      "pygments_lexer": "ipython3",
      "version": "3.7.6"
    },
    "toc": {
      "base_numbering": 1,
      "nav_menu": {},
      "number_sections": true,
      "sideBar": true,
      "skip_h1_title": false,
      "title_cell": "Table of Contents",
      "title_sidebar": "Contents",
      "toc_cell": false,
      "toc_position": {},
      "toc_section_display": true,
      "toc_window_display": false
    },
    "colab": {
      "provenance": []
    }
  },
  "nbformat": 4,
  "nbformat_minor": 5
}